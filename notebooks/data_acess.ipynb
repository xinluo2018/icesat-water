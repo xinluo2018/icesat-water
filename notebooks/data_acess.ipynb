{
 "cells": [
  {
   "cell_type": "markdown",
   "metadata": {},
   "source": [
    "### Search icesat-2 data and downloading\n",
    "### if downloading fails, try the campus vpn."
   ]
  },
  {
   "cell_type": "code",
   "execution_count": 9,
   "metadata": {},
   "outputs": [],
   "source": [
    "import icepyx as ipx\n",
    "from pprint import pprint\n"
   ]
  },
  {
   "cell_type": "code",
   "execution_count": 10,
   "metadata": {},
   "outputs": [],
   "source": [
    "## Configure\n",
    "earthdata_uid = '411795604'  # for earthdata website login\n",
    "email = 'xinluo_xin@163.com'\n",
    "short_name = 'ATL03'\n",
    "# spatial_extent = [87.60, 32.71, 88.31, 33.29]   # region 1\n",
    "spatial_extent = [81.20, 30.98, 81.8, 31.45]      # region 2\n",
    "date_range = ['2019-9-01','2019-10-31']\n",
    "dir_down_data = 'data/isat2/region2'\n"
   ]
  },
  {
   "cell_type": "code",
   "execution_count": 11,
   "metadata": {},
   "outputs": [
    {
     "name": "stdout",
     "output_type": "stream",
     "text": [
      "Product: ATL03\n",
      "Version: 006\n",
      "{'Average size of granules (MB)': 3905.75638794899,\n",
      " 'Number of available granules': 4,\n",
      " 'Total size of all granules (MB)': 15623.02555179596}\n",
      "[['ATL03_20190903063751_10260406_006_02.h5', 'ATL03_20190916175703_12320402_006_02.h5', 'ATL03_20191002051357_00810506_006_02.h5', 'ATL03_20191015163308_02870502_006_02.h5']]\n"
     ]
    }
   ],
   "source": [
    "data_region = ipx.Query(short_name, spatial_extent, date_range)\n",
    "print('Product:', data_region.product)\n",
    "print('Version:', data_region.product_version)\n",
    "filelist = data_region.avail_granules(ids=True)\n",
    "pprint(data_region.avail_granules())\n",
    "print(filelist)\n"
   ]
  },
  {
   "cell_type": "code",
   "execution_count": 12,
   "metadata": {},
   "outputs": [
    {
     "name": "stdout",
     "output_type": "stream",
     "text": [
      "Total number of data order requests is  1  for  4  granules.\n",
      "Data request  1  of  1  is submitting to NSIDC\n",
      "order ID:  5000005043311\n",
      "Initial status of your order request at NSIDC is:  processing\n",
      "Your order status is still  processing  at NSIDC. Please continue waiting... this may take a few moments.\n",
      "Your order status is still  processing  at NSIDC. Please continue waiting... this may take a few moments.\n",
      "Your order status is still  processing  at NSIDC. Please continue waiting... this may take a few moments.\n",
      "Your order status is still  processing  at NSIDC. Please continue waiting... this may take a few moments.\n",
      "Your order status is still  processing  at NSIDC. Please continue waiting... this may take a few moments.\n",
      "Your order status is still  processing  at NSIDC. Please continue waiting... this may take a few moments.\n",
      "Your order status is still  processing  at NSIDC. Please continue waiting... this may take a few moments.\n",
      "Your order is: complete\n",
      "Beginning download of zipped output...\n",
      "Data request 5000005043311 of  1  order(s) is downloaded.\n",
      "Download complete\n"
     ]
    }
   ],
   "source": [
    "# Earthdata user login and data download\n",
    "data_region.order_granules(email=False)\n",
    "data_region.download_granules(path=dir_down_data, verbose=False, subset=True)\n",
    "\n"
   ]
  },
  {
   "cell_type": "code",
   "execution_count": null,
   "metadata": {},
   "outputs": [],
   "source": [
    "\n",
    "\n",
    "\n",
    "\n",
    "\n",
    "\n",
    "\n"
   ]
  }
 ],
 "metadata": {
  "kernelspec": {
   "display_name": "venv-altimetry",
   "language": "python",
   "name": "python3"
  },
  "language_info": {
   "codemirror_mode": {
    "name": "ipython",
    "version": 3
   },
   "file_extension": ".py",
   "mimetype": "text/x-python",
   "name": "python",
   "nbconvert_exporter": "python",
   "pygments_lexer": "ipython3",
   "version": "3.10.13"
  }
 },
 "nbformat": 4,
 "nbformat_minor": 2
}
